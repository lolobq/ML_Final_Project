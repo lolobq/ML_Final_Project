{
  "nbformat": 4,
  "nbformat_minor": 0,
  "metadata": {
    "colab": {
      "provenance": [],
      "authorship_tag": "ABX9TyOjJ9sqCs8gxXRA0XDOViPy",
      "include_colab_link": true
    },
    "kernelspec": {
      "name": "python3",
      "display_name": "Python 3"
    },
    "language_info": {
      "name": "python"
    }
  },
  "cells": [
    {
      "cell_type": "markdown",
      "metadata": {
        "id": "view-in-github",
        "colab_type": "text"
      },
      "source": [
        "<a href=\"https://colab.research.google.com/github/lolobq/ML_Final_Project/blob/main/Classical%20Model/ClassicalSVCProject.ipynb\" target=\"_parent\"><img src=\"https://colab.research.google.com/assets/colab-badge.svg\" alt=\"Open In Colab\"/></a>"
      ]
    },
    {
      "cell_type": "code",
      "execution_count": null,
      "metadata": {
        "id": "GjHBk9KNhrcc"
      },
      "outputs": [],
      "source": [
        "from sklearn.model_selection import train_test_split\n",
        "from sklearn.preprocessing import StandardScaler\n",
        "import pandas as pd\n",
        "import numpy as np\n",
        "import seaborn as sns\n",
        "import matplotlib.pyplot as plt\n",
        "from sklearn.metrics import accuracy_score\n",
        "import torch\n",
        "from sklearn.metrics import classification_report\n",
        "from sklearn.metrics import confusion_matrix\n",
        "from sklearn.utils import shuffle\n",
        "from sklearn.naive_bayes import GaussianNB\n",
        "from sklearn.svm import SVC\n",
        "from sklearn.naive_bayes import MultinomialNB\n",
        "from sklearn.naive_bayes import ComplementNB\n",
        "from sklearn.svm import LinearSVC\n",
        "dataset_path = 'df6.csv'\n",
        "df = pd.read_csv(dataset_path)\n",
        "\n",
        "mapping = {\n",
        "    1: 1, 2: 2, 5: 3, 6: 4, 7: 5, 8: 6, 9: 7, 15: 8, 11: 9, 18: 10, 10: 11, 21: 12,\n",
        "    22: 13, 24: 14, 27: 15, 14: 16, 31: 17, 32: 18, 33: 19, 3: 20, 26: 21, 19: 22,\n",
        "    39: 23, 41: 24, 12: 25, 42: 26, 25: 27, 38: 28, 46: 29, 47: 30, 29: 31, 52: 32,\n",
        "    43: 33, 53: 34, 34: 35, 28: 36, 56: 37, 55: 38, 58: 39, 59: 40, 60: 41, 63: 42,\n",
        "    65: 43, 66: 44, 69: 45, 71: 46\n",
        "}\n",
        "\n",
        "df['Violent-Crime'] = df['HIGHEST_NIBRS_DESCRIPTION'].map(mapping)\n",
        "\n",
        "df = df.drop(columns=['HIGHEST_NIBRS_DESCRIPTION','VulnerableBinary'])\n",
        "y = df.pop('Violent-Crime').values\n",
        "x = df.values\n",
        "x_train, x_test, y_train, y_test = train_test_split(x, y, test_size = 0.2, random_state=95)\n",
        "\n",
        "#Classification - no need to standardize outputs\n",
        "classifier = LinearSVC(C= 100, max_iter = 50)\n",
        "#pca = PCA(n_components = 9) #Create PCA instance with k components\n",
        "#principalComponents = pca.fit_transform(x)\n",
        "\n",
        "classifier.fit(x_train, y_train)\n",
        "y_pred = classifier.predict(x_test)\n",
        "report = classification_report(y_test, y_pred, zero_division=1)\n",
        "cnf_matrix = confusion_matrix(y_test, y_pred)\n",
        "#print(cnf_matrix)\n",
        "\n",
        "fig, ax = plt.subplots()\n",
        "tick_marks = np.arange(len(class_names))\n",
        "plt.xticks(tick_marks, class_names)\n",
        "plt.yticks(tick_marks, class_names)\n",
        "\n",
        "# create heatmap\n",
        "sns.heatmap(pd.DataFrame(cnf_matrix), annot=True, cmap=\"YlGnBu\" ,fmt='g')\n",
        "ax.xaxis.set_label_position(\"top\")\n",
        "plt.tight_layout()\n",
        "plt.title('Confusion matrix' , y=1.1)\n",
        "plt.ylabel('Actual label')\n",
        "plt.xlabel('Predicted label')\n",
        "print(report)\n",
        "\n",
        "feature_weights = classifier.coef_[0]\n",
        "feature_names =  list(df.columns) # Replace with your actual feature column names\n",
        "\n",
        "# Create a dictionary to associate feature names with their weights\n",
        "feature_weights_dict = dict(zip(feature_names, feature_weights))\n",
        "\n",
        "# Print or visualize the feature weights\n",
        "for feature, weight in feature_weights_dict.items():\n",
        "    print(f\"{feature}: {weight}\")"
      ]
    }
  ]
}