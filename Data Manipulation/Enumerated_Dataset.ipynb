{
  "nbformat": 4,
  "nbformat_minor": 0,
  "metadata": {
    "colab": {
      "provenance": [],
      "authorship_tag": "ABX9TyP8yE9asAHLHL3d+c5Bg3OG",
      "include_colab_link": true
    },
    "kernelspec": {
      "name": "python3",
      "display_name": "Python 3"
    },
    "language_info": {
      "name": "python"
    }
  },
  "cells": [
    {
      "cell_type": "markdown",
      "metadata": {
        "id": "view-in-github",
        "colab_type": "text"
      },
      "source": [
        "<a href=\"https://colab.research.google.com/github/lolobq/ML_Final_Project/blob/main/Data%20Manipulation/Enumerated_Dataset.ipynb\" target=\"_parent\"><img src=\"https://colab.research.google.com/assets/colab-badge.svg\" alt=\"Open In Colab\"/></a>"
      ]
    },
    {
      "cell_type": "code",
      "execution_count": null,
      "metadata": {
        "id": "0aXFXFZG63ic"
      },
      "outputs": [],
      "source": [
        "import torch\n",
        "from sklearn.model_selection import train_test_split\n",
        "from sklearn.preprocessing import StandardScaler\n",
        "import pandas as pd\n",
        "import numpy as np\n",
        "import matplotlib.pyplot as plt\n",
        "\n",
        "NIBRS = pd.read_csv('NIBRS_Code.csv')\n",
        "\n",
        "df = pd.read_csv('merged_datasets_FIXED.csv')\n",
        "\n",
        "filtered_df = df.loc[\n",
        "    (df['ADDRESS_DESCRIPTION'] != 'Location where officer took report') &\n",
        "    (df['CLEARANCE_STATUS'] != 'Unfounded')\n",
        "].drop(columns=['DATE_INCIDENT_END','ADDRESS_DESCRIPTION', 'YEAR', 'LOCATION', 'DATE_REPORTED', 'X_COORD_PUBLIC', 'Y_COORD_PUBLIC', 'HIGHEST_NIBRS_CODE', 'DIVISION_ID', 'CLEARANCE_DETAIL_STATUS', 'CLEARANCE_STATUS', 'CLEARANCE_DATE'])\n",
        "filtered_df['VulnerableBinary'] = filtered_df['Vulnerable'].map({'No': 0, 'Yes': 1})\n",
        "filtered_df = filtered_df.drop(columns=['Vulnerable'])\n",
        "# Print the filtered DataFrame\n",
        "filtered_df = pd.merge(filtered_df, NIBRS, on='HIGHEST_NIBRS_DESCRIPTION', how='left')\n",
        "# Add a new column 'Is_Violent_Crime' based on the value in the 'Crime Against' column\n",
        "filtered_df['Violent-Crime'] = (filtered_df['Crime Against'] == 'Person').astype(int)\n",
        "filtered_df.loc[filtered_df['Violent-Crime'] == 0, 'Violent-Crime'] = 0\n",
        "\n",
        "columns_to_enum = ['PLACE_DETAIL_DESCRIPTION', 'LOCATION_TYPE_DESCRIPTION', 'PLACE_TYPE_DESCRIPTION', 'HIGHEST_NIBRS_DESCRIPTION', 'CMPD_PATROL_DIVISION', 'Crime Against']\n",
        "enum_mapping = {}\n",
        "\n",
        "# Enumerate specified columns and store the mapping\n",
        "for column in columns_to_enum:\n",
        "    filtered_df[f'{column}'], unique_codes = pd.factorize(filtered_df[column])\n",
        "\n",
        "    # Print the mapping of codes to original values\n",
        "    print(f\"Mapping of {column} codes:\")\n",
        "    print(dict(zip(unique_codes, range(0, len(unique_codes)))))\n",
        "\n",
        "# Replace '%' in the entire DataFrame\n",
        "df_clean = filtered_df.replace('%', '', regex=True)\n",
        "\n",
        "# Now df_cleaned contains the DataFrame with rows having missing values in 'Crime Against' column removed\n",
        "df_clean['DATE_INCIDENT_BEGAN'] = pd.to_datetime(df_clean['DATE_INCIDENT_BEGAN'], errors='coerce').dt.date\n",
        "df_clean = df_clean.dropna()\n",
        "df_clean['DATE_INCIDENT_BEGAN'] = df_clean['DATE_INCIDENT_BEGAN'].astype(str).str.replace('-', '')\n",
        "df_clean = df_clean.drop(columns=['Offense Code'])\n",
        "df_clean['ZIP'] = pd.to_numeric(df_clean['ZIP'], errors='coerce')\n",
        "df_clean = df_clean.dropna()\n",
        "print(df_clean.head())\n",
        "print(\"Original number of rows:\", df_clean.shape[0])\n"
      ]
    }
  ]
}