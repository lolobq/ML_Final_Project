{
 "cells": [
  {
   "cell_type": "code",
   "execution_count": null,
   "id": "8cc8c2d7-2acf-459f-b58d-bdf27d18592a",
   "metadata": {},
   "outputs": [],
   "source": [
    "import torch\n",
    "from sklearn.model_selection import train_test_split\n",
    "from sklearn.preprocessing import StandardScaler\n",
    "import pandas as pd\n",
    "import numpy as np\n",
    "import matplotlib.pyplot as plt\n",
    "\n",
    "# Assuming 'classified_filtered_dataset' is the name of your CSV file\n",
    "df = pd.read_csv('incident_report_w_patrol.csv')\n",
    "df.drop(columns=['CLEARANCE_DATE'], inplace=True)\n",
    "\n",
    "# Display the original number of rows\n",
    "print(\"Original number of rows:\", df.shape[0])\n",
    "\n",
    "# Drop rows with missing values in the 'Crime Against' column\n",
    "df_cleaned = df.dropna()\n",
    "\n",
    "# Display the new number of rows\n",
    "print(\"Number of rows after dropping missing values in 'Crime Against' column:\", df_cleaned.shape[0])\n",
    "\n",
    "# Drop additional columns that are not needed\n",
    "df_cleaned = df_cleaned.drop(columns=['DATE_REPORTED', 'HIGHEST_NIBRS_CODE'])\n",
    "\n",
    "# Remove percentage signs from the DataFrame\n",
    "df_clean = df_cleaned.replace('%', '', regex=True)\n",
    "df_clean.head()\n",
    "\n",
    "# Now df_cleaned contains the DataFrame with rows having missing values in 'Crime Against' column removed\n",
    "df_clean['DATE_INCIDENT_BEGAN'] = pd.to_datetime(df_clean['DATE_INCIDENT_BEGAN'], errors='coerce').dt.date\n",
    "df_clean = df_clean.dropna()\n",
    "# Convert the 'DATE_INCIDENT_BEGAN' column to a string format without dashes\n",
    "df_clean['DATE_INCIDENT_BEGAN'] = df_clean['DATE_INCIDENT_BEGAN'].astype(str).str.replace('-', '')\n",
    "\n",
    "# Convert specific columns to enumerated values\n",
    "columns_to_enum = ['HIGHEST_NIBRS_DESCRIPTION', 'CMPD_PATROL_DIVISION', 'Crime Against']\n",
    "\n",
    "for column in columns_to_enum:\n",
    "    # Use pd.factorize to convert categorical values to enumerated values\n",
    "    df_clean[column], _ = pd.factorize(df_clean[column])\n",
    "\n",
    "# Display the cleaned DataFrame\n",
    "df_clean.head()\n",
    "df_clean.to_csv('merged_dataset.csv', index=False)"
   ]
  }
 ],
 "metadata": {
  "kernelspec": {
   "display_name": "Python 3 (ipykernel)",
   "language": "python",
   "name": "python3"
  },
  "language_info": {
   "codemirror_mode": {
    "name": "ipython",
    "version": 3
   },
   "file_extension": ".py",
   "mimetype": "text/x-python",
   "name": "python",
   "nbconvert_exporter": "python",
   "pygments_lexer": "ipython3",
   "version": "3.11.5"
  }
 },
 "nbformat": 4,
 "nbformat_minor": 5
}
