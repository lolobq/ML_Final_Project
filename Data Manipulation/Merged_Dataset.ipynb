{
  "nbformat": 4,
  "nbformat_minor": 0,
  "metadata": {
    "colab": {
      "provenance": [],
      "authorship_tag": "ABX9TyPMkbNdXsv1PdVEsFlQhs13",
      "include_colab_link": true
    },
    "kernelspec": {
      "name": "python3",
      "display_name": "Python 3"
    },
    "language_info": {
      "name": "python"
    }
  },
  "cells": [
    {
      "cell_type": "markdown",
      "metadata": {
        "id": "view-in-github",
        "colab_type": "text"
      },
      "source": [
        "<a href=\"https://colab.research.google.com/github/lolobq/ML_Final_Project/blob/main/Data%20Manipulation/Merged_Dataset.ipynb\" target=\"_parent\"><img src=\"https://colab.research.google.com/assets/colab-badge.svg\" alt=\"Open In Colab\"/></a>"
      ]
    },
    {
      "cell_type": "code",
      "execution_count": null,
      "metadata": {
        "id": "KhkK2OBm55LF"
      },
      "outputs": [],
      "source": [
        "import torch\n",
        "from sklearn.model_selection import train_test_split\n",
        "from sklearn.preprocessing import StandardScaler\n",
        "import pandas as pd\n",
        "import numpy as np\n",
        "import matplotlib.pyplot as plt\n",
        "\n",
        "# Assuming 'classified_filtered_dataset' is the name of your CSV file\n",
        "df = pd.read_csv('incident_report_w_patrol.csv')\n",
        "df.drop(columns=['CLEARANCE_DATE'], inplace=True)\n",
        "# Display the original number of rows\n",
        "print(\"Original number of rows:\", df.shape[0])\n",
        "\n",
        "# Drop rows with missing values in the 'Crime Against' column\n",
        "df_cleaned = df.dropna()\n",
        "\n",
        "# Display the new number of rows\n",
        "print(\"Number of rows after dropping missing values in 'Crime Against' column:\", df_cleaned.shape[0])\n",
        "\n",
        "df_cleaned = df_cleaned.drop(columns=['DATE_REPORTED', 'HIGHEST_NIBRS_CODE'])\n",
        "df_clean = df_cleaned.replace('%', '', regex=True)\n",
        "df_clean.head()\n",
        "# Now df_cleaned contains the DataFrame with rows having missing values in 'Crime Against' column removed\n",
        "df_clean['DATE_INCIDENT_BEGAN'] = pd.to_datetime(df_clean['DATE_INCIDENT_BEGAN'], errors='coerce').dt.date\n",
        "df_clean = df_clean.dropna()\n",
        "df_clean['DATE_INCIDENT_BEGAN'] = df_clean['DATE_INCIDENT_BEGAN'].astype(str).str.replace('-', '')\n",
        "\n",
        "# Convert specific columns to enumerated values\n",
        "columns_to_enum = ['HIGHEST_NIBRS_DESCRIPTION', 'CMPD_PATROL_DIVISION', 'Crime Against']\n",
        "\n",
        "for column in columns_to_enum:\n",
        "    df_clean[column], _ = pd.factorize(df_clean[column])\n",
        "\n",
        "# Display the cleaned DataFrame\n",
        "df_clean.head()\n",
        "\n",
        "df_clean.to_csv('merged_dataset.csv', index=False)"
      ]
    }
  ]
}